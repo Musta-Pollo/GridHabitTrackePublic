{
 "cells": [
  {
   "cell_type": "code",
   "execution_count": null,
   "metadata": {},
   "outputs": [],
   "source": []
  },
  {
   "cell_type": "code",
   "execution_count": null,
   "metadata": {},
   "outputs": [],
   "source": [
    "import re\n",
    "\n",
    "\n",
    "\n",
    "# Filter SVG files\n",
    "svg_files = [name for name in file_names if name.endswith('.svg')]\n",
    "\n",
    "# Filter specific SVG files based on a condition (e.g., contains '-3' or '-4')\n",
    "filtered_svgs = [file for file in svg_files if re.search('-(3|4)\\.svg$', file)]\n",
    "\n",
    "# Convert file names to capitalized form\n",
    "capitalized_names = [re.sub(r'-([0-9]+)\\.svg$', r'\\1', file).capitalize() for file in filtered_svgs]\n",
    "\n",
    "print(\"Capitalized Names:\", capitalized_names)\n",
    "\n",
    "# Placeholder function for fetching related words (assuming an API or library is used)\n",
    "def fetch_related_words(word):\n",
    "    # Here you would make an API call or use a library to fetch related words\n",
    "    # For demonstration, returning a mock list of related words\n",
    "    return [\"example1\", \"example2\", \"example3\"]\n",
    "\n",
    "# Fetching related words for each capitalized name\n",
    "related_words_dict = {name: fetch_related_words(name) for name in capitalized_names}\n",
    "\n",
    "print(\"Related Words:\", related_words_dict)\n"
   ]
  }
 ],
 "metadata": {
  "language_info": {
   "name": "python"
  }
 },
 "nbformat": 4,
 "nbformat_minor": 2
}
